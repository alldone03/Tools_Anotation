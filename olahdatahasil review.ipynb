{
 "cells": [
  {
   "cell_type": "code",
   "execution_count": 2,
   "id": "8abca86f",
   "metadata": {},
   "outputs": [],
   "source": [
    "import pandas as pd"
   ]
  },
  {
   "cell_type": "code",
   "execution_count": 7,
   "id": "dc45197e",
   "metadata": {},
   "outputs": [
    {
     "name": "stdout",
     "output_type": "stream",
     "text": [
      "                                         path_gambar decision\n",
      "0  C:\\Users\\Aldan\\Desktop\\ImproTYT\\AfterDetect\\In...    orang\n",
      "1  C:\\Users\\Aldan\\Desktop\\ImproTYT\\AfterDetect\\In...    salah\n",
      "2  C:\\Users\\Aldan\\Desktop\\ImproTYT\\AfterDetect\\In...    benar\n",
      "3  C:\\Users\\Aldan\\Desktop\\ImproTYT\\AfterDetect\\In...    salah\n",
      "4  C:\\Users\\Aldan\\Desktop\\ImproTYT\\AfterDetect\\In...    orang\n"
     ]
    }
   ],
   "source": [
    "df = pd.read_csv('D:\\LearnPython\\Tools_labeler\\hasil_review1.csv')\n",
    "print(df.head()) # Display the first few rows"
   ]
  },
  {
   "cell_type": "code",
   "execution_count": 9,
   "id": "4654a35c",
   "metadata": {},
   "outputs": [],
   "source": [
    "\n",
    "import os\n",
    "def change_extension_to_txt(path):\n",
    "        if path.lower().endswith('.jpg'):\n",
    "            # Use os.path.splitext to safely split the path and extension\n",
    "            # Then rejoin with the new .txt extension\n",
    "            return os.path.splitext(path)[0] + '.txt'\n",
    "        return path # Return original path if it's not a .jpg\n"
   ]
  },
  {
   "cell_type": "code",
   "execution_count": 24,
   "id": "fe89f9aa",
   "metadata": {},
   "outputs": [
    {
     "name": "stdout",
     "output_type": "stream",
     "text": [
      "C:\\Users\\Aldan\\Desktop\\ImproTYT\\AfterDetect\\Innova\\2025-06-19_00-41-56_CAMERA_1.txt\n"
     ]
    }
   ],
   "source": [
    "df['path_txt'] = df['path_gambar'].apply(change_extension_to_txt)\n",
    "\n",
    "print(df['path_txt'][0])\n",
    "\n",
    "df = df[df[\"decision\"]==\"salah\"]\n",
    "\n"
   ]
  },
  {
   "cell_type": "code",
   "execution_count": null,
   "id": "5027a58f",
   "metadata": {},
   "outputs": [],
   "source": []
  },
  {
   "cell_type": "code",
   "execution_count": null,
   "id": "1349dce3",
   "metadata": {},
   "outputs": [],
   "source": [
    "df.to_csv(\"new_dataReview.csv\",index=False)\n",
    "\n",
    "\n",
    "\n"
   ]
  },
  {
   "cell_type": "code",
   "execution_count": 31,
   "id": "b3556d39",
   "metadata": {},
   "outputs": [],
   "source": [
    "import shutil\n",
    "destination_folder = \"D:\\LearnPython\\Tools_labeler\\destination\""
   ]
  },
  {
   "cell_type": "code",
   "execution_count": null,
   "id": "121d00da",
   "metadata": {},
   "outputs": [],
   "source": [
    "if not os.path.exists(destination_folder):\n",
    "    os.makedirs(destination_folder)"
   ]
  },
  {
   "cell_type": "code",
   "execution_count": 37,
   "id": "8978978c",
   "metadata": {},
   "outputs": [
    {
     "name": "stdout",
     "output_type": "stream",
     "text": [
      "<class 'pandas.core.frame.DataFrame'>\n",
      "Index: 59 entries, 1 to 152\n",
      "Data columns (total 3 columns):\n",
      " #   Column       Non-Null Count  Dtype \n",
      "---  ------       --------------  ----- \n",
      " 0   path_gambar  59 non-null     object\n",
      " 1   decision     59 non-null     object\n",
      " 2   path_txt     59 non-null     object\n",
      "dtypes: object(3)\n",
      "memory usage: 1.8+ KB\n"
     ]
    },
    {
     "data": {
      "text/html": [
       "<div>\n",
       "<style scoped>\n",
       "    .dataframe tbody tr th:only-of-type {\n",
       "        vertical-align: middle;\n",
       "    }\n",
       "\n",
       "    .dataframe tbody tr th {\n",
       "        vertical-align: top;\n",
       "    }\n",
       "\n",
       "    .dataframe thead th {\n",
       "        text-align: right;\n",
       "    }\n",
       "</style>\n",
       "<table border=\"1\" class=\"dataframe\">\n",
       "  <thead>\n",
       "    <tr style=\"text-align: right;\">\n",
       "      <th></th>\n",
       "      <th>path_gambar</th>\n",
       "      <th>decision</th>\n",
       "      <th>path_txt</th>\n",
       "    </tr>\n",
       "  </thead>\n",
       "  <tbody>\n",
       "    <tr>\n",
       "      <th>count</th>\n",
       "      <td>59</td>\n",
       "      <td>59</td>\n",
       "      <td>59</td>\n",
       "    </tr>\n",
       "    <tr>\n",
       "      <th>unique</th>\n",
       "      <td>58</td>\n",
       "      <td>1</td>\n",
       "      <td>58</td>\n",
       "    </tr>\n",
       "    <tr>\n",
       "      <th>top</th>\n",
       "      <td>C:\\Users\\Aldan\\Desktop\\ImproTYT\\AfterDetect\\In...</td>\n",
       "      <td>salah</td>\n",
       "      <td>C:\\Users\\Aldan\\Desktop\\ImproTYT\\AfterDetect\\In...</td>\n",
       "    </tr>\n",
       "    <tr>\n",
       "      <th>freq</th>\n",
       "      <td>2</td>\n",
       "      <td>59</td>\n",
       "      <td>2</td>\n",
       "    </tr>\n",
       "  </tbody>\n",
       "</table>\n",
       "</div>"
      ],
      "text/plain": [
       "                                              path_gambar decision  \\\n",
       "count                                                  59       59   \n",
       "unique                                                 58        1   \n",
       "top     C:\\Users\\Aldan\\Desktop\\ImproTYT\\AfterDetect\\In...    salah   \n",
       "freq                                                    2       59   \n",
       "\n",
       "                                                 path_txt  \n",
       "count                                                  59  \n",
       "unique                                                 58  \n",
       "top     C:\\Users\\Aldan\\Desktop\\ImproTYT\\AfterDetect\\In...  \n",
       "freq                                                    2  "
      ]
     },
     "execution_count": 37,
     "metadata": {},
     "output_type": "execute_result"
    }
   ],
   "source": [
    "df.info()\n",
    "df.describe()"
   ]
  },
  {
   "cell_type": "code",
   "execution_count": null,
   "id": "94612a4c",
   "metadata": {},
   "outputs": [],
   "source": [
    "for index , row in df.iterrows():\n",
    "    shutil.copy(row['path_gambar'],destination_folder)\n",
    "    shutil.copy(row['path_txt'],destination_folder)    "
   ]
  },
  {
   "cell_type": "code",
   "execution_count": 40,
   "id": "e63e6342",
   "metadata": {},
   "outputs": [
    {
     "data": {
      "text/plain": [
       "'D:\\\\LearnPython\\\\Tools_labeler\\\\destination\\\\labels.txt'"
      ]
     },
     "execution_count": 40,
     "metadata": {},
     "output_type": "execute_result"
    }
   ],
   "source": [
    "shutil.copy(r\"C:\\Users\\Aldan\\Desktop\\ImproTYT\\INNOVA\\dataset_cropped_rescaled_1.5\\labels.txt\",destination_folder)"
   ]
  },
  {
   "cell_type": "code",
   "execution_count": 9,
   "id": "f2d3ca66",
   "metadata": {},
   "outputs": [
    {
     "name": "stdout",
     "output_type": "stream",
     "text": [
      "0 BOLT WELD FOR HVAC-WITH\n",
      "\n",
      "1 BRACKET FOR CLUTCH-WITH\n",
      "\n",
      "2 BRACKET FOR CLUTCH-WITHOUT\n",
      "\n",
      "3 BRACKET FOR WIRING HARNESS CLAMP-WITH\n",
      "\n",
      "4 HOLE FOR HEATER PIPE-WITH\n",
      "\n",
      "5 NUT FOR COLUMN HOLE COVER 1-WITH\n",
      "\n",
      "6 NUT FOR COLUMN HOLE COVER 2-WITH\n",
      "\n",
      "7 NUT FOR COLUMN HOLE COVER 3-WITH\n",
      "\n",
      "8 RHD_HOLE FOR STEERING COLUMN-WITH\n",
      "\n",
      "9 STUD BOLT FOR AIR CONDITIONER PIPE 1-WITH\n",
      "\n",
      "10 STUD BOLT FOR AIR CONDITIONER PIPE 2-WITH\n",
      "\n",
      "11 STUD BOLT FOR BRAKE TUBE 1-WITH\n",
      "\n",
      "12 STUD BOLT FOR BRAKE TUBE 2-WITH\n",
      "\n",
      "13 STUD BOLT FOR BRAKE TUBE 3-WITH\n",
      "\n",
      "14 STUD BOLT FOR BRAKE TUBE 4-WITH\n",
      "\n",
      "15 STUD BOLT FOR CLUTCH TUBE 1-WITH\n",
      "\n",
      "16 STUD BOLT FOR CLUTCH TUBE 1-WITHOUT\n",
      "\n",
      "17 STUD BOLT FOR CLUTCH TUBE 2-WITH\n",
      "\n",
      "18 STUD BOLT FOR CLUTCH TUBE 2-WITHOUT\n",
      "\n",
      "19 STUD BOLT FOR DASH OUTER SILENCER-WITH\n",
      "\n",
      "20 STUD BOLT FOR ENGINE ROOM MAIN WIRE HARNESS 1-WITH\n",
      "\n",
      "21 STUD BOLT FOR ENGINE ROOM MAIN WIRE HARNESS 2-WITH\n",
      "\n",
      "22 STUD BOLT FOR ENGINE ROOM MAIN WIRE HARNESS 3-WITH\n",
      "\n",
      "23 STUD BOLT FOR ENGINE ROOM MAIN WIRE HARNESS 4-WITH\n",
      "\n",
      "24 STUD BOLT FOR FUEL TUBE-WITH\n",
      "\n",
      "25 STUD BOLT FOR HEAT INSULATOR 1-WITH\n",
      "\n",
      "26 STUD BOLT FOR HEAT INSULATOR 2-WITH\n",
      "\n",
      "27 STUD BOLT FOR VACUM TUBE 1-WITH\n",
      "\n",
      "28 STUD BOLT FOR VACUM TUBE 2-WITH\n",
      "\n"
     ]
    }
   ],
   "source": [
    "with open(r\"D:\\LearnPython\\Tools_labeler\\destination\\labels.txt\",'r',encoding='utf-8') as file:\n",
    "    lines = file.readlines()\n",
    "    pass\n",
    "    \n",
    "with open(r\"D:\\LearnPython\\Tools_labeler\\destination\\labels.txt\",'w',encoding='utf-8') as write:\n",
    "    for i, line in enumerate(lines):\n",
    "        print(str(i)+\" \"+line)\n",
    "        write.write(f\"{i}. {line.strip()}\\n\")\n",
    "    pass"
   ]
  }
 ],
 "metadata": {
  "kernelspec": {
   "display_name": "Python 3",
   "language": "python",
   "name": "python3"
  },
  "language_info": {
   "codemirror_mode": {
    "name": "ipython",
    "version": 3
   },
   "file_extension": ".py",
   "mimetype": "text/x-python",
   "name": "python",
   "nbconvert_exporter": "python",
   "pygments_lexer": "ipython3",
   "version": "3.10.11"
  }
 },
 "nbformat": 4,
 "nbformat_minor": 5
}
