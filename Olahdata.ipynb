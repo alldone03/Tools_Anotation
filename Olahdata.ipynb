{
 "cells": [
  {
   "cell_type": "code",
   "execution_count": 1,
   "id": "c10a0979",
   "metadata": {},
   "outputs": [],
   "source": [
    "import pandas as pd\n"
   ]
  },
  {
   "cell_type": "code",
   "execution_count": 18,
   "id": "34993d6e",
   "metadata": {},
   "outputs": [
    {
     "name": "stdout",
     "output_type": "stream",
     "text": [
      "Jumlah data 'benar': 68\n",
      "Jumlah data 'salah': 59\n",
      "Total data: 127\n",
      "Persentase 'benar': 53.54%\n",
      "Persentase 'salah': 46.46%\n"
     ]
    }
   ],
   "source": [
    "df = pd.read_csv(\"D:\\LearnPython\\Tools_labeler\\hasil_review1.csv\")\n",
    "# print(df.head())\n",
    "# print(df.describe())\n",
    "\n",
    "\n",
    "# --- 2. Menghitung Persentase Benar dan Salah ---\n",
    "\n",
    "# Menghitung jumlah 'benar' dan 'salah'\n",
    "jumlah_benar = df[df['decision'] == 'benar'].shape[0]\n",
    "jumlah_salah = df[df['decision'] == 'salah'].shape[0]\n",
    "total_data = jumlah_benar+jumlah_salah\n",
    "\n",
    "print(f\"Jumlah data 'benar': {jumlah_benar}\")\n",
    "print(f\"Jumlah data 'salah': {jumlah_salah}\")\n",
    "print(f\"Total data: {total_data}\")\n",
    "\n",
    "# Hitung persentase\n",
    "persentase_benar = (jumlah_benar / total_data) * 100\n",
    "persentase_salah = (jumlah_salah / total_data) * 100\n",
    "\n",
    "print(f\"Persentase 'benar': {persentase_benar:.2f}%\")\n",
    "print(f\"Persentase 'salah': {persentase_salah:.2f}%\")"
   ]
  },
  {
   "cell_type": "code",
   "execution_count": 13,
   "id": "7a9b91b2",
   "metadata": {},
   "outputs": [
    {
     "name": "stdout",
     "output_type": "stream",
     "text": [
      "       Model                                      Path Gambar     Nama File  \\\n",
      "6   Fortuner  E:\\datacamera2\\2025-06-24_10-30-33\\CAMERA_1.jpg  CAMERA_1.jpg   \n",
      "7    Innvova  E:\\datacamera2\\2025-06-24_10-30-33\\CAMERA_1.jpg  CAMERA_1.jpg   \n",
      "8      Zenix  E:\\datacamera2\\2025-06-24_10-30-33\\CAMERA_1.jpg  CAMERA_1.jpg   \n",
      "33  Fortuner  E:\\datacamera2\\2025-06-24_10-28-56\\CAMERA_1.jpg  CAMERA_1.jpg   \n",
      "34   Innvova  E:\\datacamera2\\2025-06-24_10-28-56\\CAMERA_1.jpg  CAMERA_1.jpg   \n",
      "\n",
      "    Jumlah Objek                                         Kelas Unik  \\\n",
      "6              0                                                 []   \n",
      "7              2                                            [8, 26]   \n",
      "8             18  [2, 3, 4, 5, 6, 7, 8, 9, 10, 11, 12, 13, 14, 1...   \n",
      "33            19  [0, 4, 5, 6, 9, 10, 11, 12, 13, 14, 15, 16, 17...   \n",
      "34            17  [0, 2, 3, 4, 5, 6, 7, 8, 9, 10, 11, 16, 17, 19...   \n",
      "\n",
      "   Kelas Dominan                                  Label YOLO Format  \n",
      "6              -                                                 []  \n",
      "7              8  ['8 0.363331 0.709169 0.049557 0.110184', '26 ...  \n",
      "8              3  ['3 0.361553 0.706316 0.054188 0.114009', '18 ...  \n",
      "33            10  ['10 0.360049 0.719064 0.019706 0.019588', '6 ...  \n",
      "34             4  ['4 0.535984 0.590177 0.029969 0.031738', '6 0...  \n",
      "       Jumlah Objek\n",
      "count   6213.000000\n",
      "mean       9.006599\n",
      "std        9.059941\n",
      "min        0.000000\n",
      "25%        0.000000\n",
      "50%        8.000000\n",
      "75%       17.000000\n",
      "max       27.000000\n"
     ]
    }
   ],
   "source": [
    "df_Innova = df[df[\"Model\"] == \"Innvova\"]\n",
    "df_Fortuner = df[df[\"Model\"] == \"Fortuner\"]\n",
    "df_Zenix = df[df[\"Model\"] == \"Zenix\"]\n",
    "df_NamaFile = df[df[\"Nama File\"] == \"CAMERA_1.jpg\"]\n",
    "print(df_NamaFile.head())\n",
    "print(df_NamaFile.describe())\n"
   ]
  },
  {
   "cell_type": "code",
   "execution_count": null,
   "id": "2a88763f",
   "metadata": {},
   "outputs": [
    {
     "name": "stdout",
     "output_type": "stream",
     "text": [
      "       Model                                      Path Gambar     Nama File  \\\n",
      "8      Zenix  E:\\datacamera2\\2025-06-24_10-30-33\\CAMERA_1.jpg  CAMERA_1.jpg   \n",
      "33  Fortuner  E:\\datacamera2\\2025-06-24_10-28-56\\CAMERA_1.jpg  CAMERA_1.jpg   \n",
      "54  Fortuner  E:\\datacamera2\\2025-06-24_10-25-15\\CAMERA_1.jpg  CAMERA_1.jpg   \n",
      "87  Fortuner  E:\\datacamera2\\2025-06-24_10-23-33\\CAMERA_1.jpg  CAMERA_1.jpg   \n",
      "88   Innvova  E:\\datacamera2\\2025-06-24_10-23-33\\CAMERA_1.jpg  CAMERA_1.jpg   \n",
      "\n",
      "    Jumlah Objek                                         Kelas Unik  \\\n",
      "8             18  [2, 3, 4, 5, 6, 7, 8, 9, 10, 11, 12, 13, 14, 1...   \n",
      "33            19  [0, 4, 5, 6, 9, 10, 11, 12, 13, 14, 15, 16, 17...   \n",
      "54            23  [0, 1, 2, 4, 6, 8, 9, 10, 11, 13, 14, 15, 16, ...   \n",
      "87            20  [0, 4, 5, 6, 9, 10, 11, 12, 13, 14, 15, 16, 17...   \n",
      "88            18  [0, 2, 3, 4, 5, 6, 7, 8, 9, 10, 11, 14, 16, 17...   \n",
      "\n",
      "   Kelas Dominan                                  Label YOLO Format  \n",
      "8              3  ['3 0.361553 0.706316 0.054188 0.114009', '18 ...  \n",
      "33            10  ['10 0.360049 0.719064 0.019706 0.019588', '6 ...  \n",
      "54             8  ['8 0.598543 0.68911 0.047841 0.081458', '11 0...  \n",
      "87            26  ['26 0.370033 0.727352 0.019625 0.019518', '9 ...  \n",
      "88             7  ['7 0.308037 0.685214 0.019696 0.019607', '6 0...  \n"
     ]
    }
   ],
   "source": [
    "df_filtered = df_NamaFile[df_NamaFile['Jumlah Objek'] >= 18]\n",
    "\n",
    "# Tampilkan hasilnya\n",
    "print(df_filtered.head())"
   ]
  },
  {
   "cell_type": "code",
   "execution_count": 15,
   "id": "8721ac36",
   "metadata": {},
   "outputs": [],
   "source": [
    "df_NamaFile.to_csv('df_NamaFile.csv', index=False)"
   ]
  },
  {
   "cell_type": "code",
   "execution_count": null,
   "id": "4bd98765",
   "metadata": {},
   "outputs": [],
   "source": []
  }
 ],
 "metadata": {
  "kernelspec": {
   "display_name": "Python 3",
   "language": "python",
   "name": "python3"
  },
  "language_info": {
   "codemirror_mode": {
    "name": "ipython",
    "version": 3
   },
   "file_extension": ".py",
   "mimetype": "text/x-python",
   "name": "python",
   "nbconvert_exporter": "python",
   "pygments_lexer": "ipython3",
   "version": "3.10.11"
  }
 },
 "nbformat": 4,
 "nbformat_minor": 5
}
