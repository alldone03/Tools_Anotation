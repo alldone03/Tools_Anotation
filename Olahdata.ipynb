{
 "cells": [
  {
   "cell_type": "code",
   "execution_count": 1,
   "id": "c10a0979",
   "metadata": {},
   "outputs": [],
   "source": [
    "import pandas as pd\n"
   ]
  },
  {
   "cell_type": "code",
   "execution_count": 18,
   "id": "34993d6e",
   "metadata": {},
   "outputs": [
    {
     "name": "stdout",
     "output_type": "stream",
     "text": [
      "Jumlah data 'benar': 68\n",
      "Jumlah data 'salah': 59\n",
      "Total data: 127\n",
      "Persentase 'benar': 53.54%\n",
      "Persentase 'salah': 46.46%\n"
     ]
    }
   ],
   "source": [
    "df = pd.read_csv(\"D:\\LearnPython\\Tools_labeler\\hasil_review1.csv\")\n",
    "# print(df.head())\n",
    "# print(df.describe())\n",
    "\n",
    "\n",
    "# --- 2. Menghitung Persentase Benar dan Salah ---\n",
    "\n",
    "# Menghitung jumlah 'benar' dan 'salah'\n",
    "jumlah_benar = df[df['decision'] == 'benar'].shape[0]\n",
    "jumlah_salah = df[df['decision'] == 'salah'].shape[0]\n",
    "total_data = jumlah_benar+jumlah_salah\n",
    "\n",
    "print(f\"Jumlah data 'benar': {jumlah_benar}\")\n",
    "print(f\"Jumlah data 'salah': {jumlah_salah}\")\n",
    "print(f\"Total data: {total_data}\")\n",
    "\n",
    "# Hitung persentase\n",
    "persentase_benar = (jumlah_benar / total_data) * 100\n",
    "persentase_salah = (jumlah_salah / total_data) * 100\n",
    "\n",
    "print(f\"Persentase 'benar': {persentase_benar:.2f}%\")\n",
    "print(f\"Persentase 'salah': {persentase_salah:.2f}%\")"
   ]
  },
  {
   "cell_type": "code",
   "execution_count": 13,
   "id": "7a9b91b2",
   "metadata": {},
   "outputs": [
    {
     "name": "stdout",
     "output_type": "stream",
     "text": [
      "       Model                                      Path Gambar     Nama File  \\\n",
      "6   Fortuner  E:\\datacamera2\\2025-06-24_10-30-33\\CAMERA_1.jpg  CAMERA_1.jpg   \n",
      "7    Innvova  E:\\datacamera2\\2025-06-24_10-30-33\\CAMERA_1.jpg  CAMERA_1.jpg   \n",
      "8      Zenix  E:\\datacamera2\\2025-06-24_10-30-33\\CAMERA_1.jpg  CAMERA_1.jpg   \n",
      "33  Fortuner  E:\\datacamera2\\2025-06-24_10-28-56\\CAMERA_1.jpg  CAMERA_1.jpg   \n",
      "34   Innvova  E:\\datacamera2\\2025-06-24_10-28-56\\CAMERA_1.jpg  CAMERA_1.jpg   \n",
      "\n",
      "    Jumlah Objek                                         Kelas Unik  \\\n",
      "6              0                                                 []   \n",
      "7              2                                            [8, 26]   \n",
      "8             18  [2, 3, 4, 5, 6, 7, 8, 9, 10, 11, 12, 13, 14, 1...   \n",
      "33            19  [0, 4, 5, 6, 9, 10, 11, 12, 13, 14, 15, 16, 17...   \n",
      "34            17  [0, 2, 3, 4, 5, 6, 7, 8, 9, 10, 11, 16, 17, 19...   \n",
      "\n",
      "   Kelas Dominan                                  Label YOLO Format  \n",
      "6              -                                                 []  \n",
      "7              8  ['8 0.363331 0.709169 0.049557 0.110184', '26 ...  \n",
      "8              3  ['3 0.361553 0.706316 0.054188 0.114009', '18 ...  \n",
      "33            10  ['10 0.360049 0.719064 0.019706 0.019588', '6 ...  \n",
      "34             4  ['4 0.535984 0.590177 0.029969 0.031738', '6 0...  \n",
      "       Jumlah Objek\n",
      "count   6213.000000\n",
      "mean       9.006599\n",
      "std        9.059941\n",
      "min        0.000000\n",
      "25%        0.000000\n",
      "50%        8.000000\n",
      "75%       17.000000\n",
      "max       27.000000\n"
     ]
    }
   ],
   "source": [
    "df_Innova = df[df[\"Model\"] == \"Innvova\"]\n",
    "df_Fortuner = df[df[\"Model\"] == \"Fortuner\"]\n",
    "df_Zenix = df[df[\"Model\"] == \"Zenix\"]\n",
    "df_NamaFile = df[df[\"Nama File\"] == \"CAMERA_1.jpg\"]\n",
    "print(df_NamaFile.head())\n",
    "print(df_NamaFile.describe())\n"
   ]
  },
  {
   "cell_type": "code",
   "execution_count": null,
   "id": "2a88763f",
   "metadata": {},
   "outputs": [
    {
     "name": "stdout",
     "output_type": "stream",
     "text": [
      "       Model                                      Path Gambar     Nama File  \\\n",
      "8      Zenix  E:\\datacamera2\\2025-06-24_10-30-33\\CAMERA_1.jpg  CAMERA_1.jpg   \n",
      "33  Fortuner  E:\\datacamera2\\2025-06-24_10-28-56\\CAMERA_1.jpg  CAMERA_1.jpg   \n",
      "54  Fortuner  E:\\datacamera2\\2025-06-24_10-25-15\\CAMERA_1.jpg  CAMERA_1.jpg   \n",
      "87  Fortuner  E:\\datacamera2\\2025-06-24_10-23-33\\CAMERA_1.jpg  CAMERA_1.jpg   \n",
      "88   Innvova  E:\\datacamera2\\2025-06-24_10-23-33\\CAMERA_1.jpg  CAMERA_1.jpg   \n",
      "\n",
      "    Jumlah Objek                                         Kelas Unik  \\\n",
      "8             18  [2, 3, 4, 5, 6, 7, 8, 9, 10, 11, 12, 13, 14, 1...   \n",
      "33            19  [0, 4, 5, 6, 9, 10, 11, 12, 13, 14, 15, 16, 17...   \n",
      "54            23  [0, 1, 2, 4, 6, 8, 9, 10, 11, 13, 14, 15, 16, ...   \n",
      "87            20  [0, 4, 5, 6, 9, 10, 11, 12, 13, 14, 15, 16, 17...   \n",
      "88            18  [0, 2, 3, 4, 5, 6, 7, 8, 9, 10, 11, 14, 16, 17...   \n",
      "\n",
      "   Kelas Dominan                                  Label YOLO Format  \n",
      "8              3  ['3 0.361553 0.706316 0.054188 0.114009', '18 ...  \n",
      "33            10  ['10 0.360049 0.719064 0.019706 0.019588', '6 ...  \n",
      "54             8  ['8 0.598543 0.68911 0.047841 0.081458', '11 0...  \n",
      "87            26  ['26 0.370033 0.727352 0.019625 0.019518', '9 ...  \n",
      "88             7  ['7 0.308037 0.685214 0.019696 0.019607', '6 0...  \n"
     ]
    }
   ],
   "source": [
    "df_filtered = df_NamaFile[df_NamaFile['Jumlah Objek'] >= 18]\n",
    "\n",
    "# Tampilkan hasilnya\n",
    "print(df_filtered.head())"
   ]
  },
  {
   "cell_type": "code",
   "execution_count": 15,
   "id": "8721ac36",
   "metadata": {},
   "outputs": [],
   "source": [
    "df_NamaFile.to_csv('df_NamaFile.csv', index=False)"
   ]
  },
  {
   "cell_type": "code",
   "execution_count": 3,
   "id": "4bd98765",
   "metadata": {},
   "outputs": [
    {
     "data": {
      "text/html": [
       "<div>\n",
       "<style scoped>\n",
       "    .dataframe tbody tr th:only-of-type {\n",
       "        vertical-align: middle;\n",
       "    }\n",
       "\n",
       "    .dataframe tbody tr th {\n",
       "        vertical-align: top;\n",
       "    }\n",
       "\n",
       "    .dataframe thead th {\n",
       "        text-align: right;\n",
       "    }\n",
       "</style>\n",
       "<table border=\"1\" class=\"dataframe\">\n",
       "  <thead>\n",
       "    <tr style=\"text-align: right;\">\n",
       "      <th></th>\n",
       "      <th>Model</th>\n",
       "      <th>Path Gambar</th>\n",
       "      <th>Nama File</th>\n",
       "      <th>Jumlah Objek</th>\n",
       "      <th>Kelas Unik</th>\n",
       "      <th>Kelas Dominan</th>\n",
       "      <th>Label YOLO Format</th>\n",
       "      <th>Path Txt</th>\n",
       "    </tr>\n",
       "  </thead>\n",
       "  <tbody>\n",
       "    <tr>\n",
       "      <th>0</th>\n",
       "      <td>Innova</td>\n",
       "      <td>E:\\24_1_Juli_dataset\\2025-07-01_11-09-25\\CAMER...</td>\n",
       "      <td>CAMERA_1.jpg</td>\n",
       "      <td>26</td>\n",
       "      <td>[0, 1, 3, 4, 5, 6, 7, 8, 9, 10, 11, 12, 13, 14...</td>\n",
       "      <td>10</td>\n",
       "      <td>['10 0.571245 0.628367 0.02359 0.023232', '19 ...</td>\n",
       "      <td>E:\\24_1_Juli_dataset\\2025-07-01_11-09-25\\CAMER...</td>\n",
       "    </tr>\n",
       "    <tr>\n",
       "      <th>1</th>\n",
       "      <td>Innova</td>\n",
       "      <td>E:\\24_1_Juli_dataset\\2025-07-01_11-09-15\\CAMER...</td>\n",
       "      <td>CAMERA_1.jpg</td>\n",
       "      <td>26</td>\n",
       "      <td>[0, 2, 3, 4, 5, 6, 7, 8, 9, 10, 11, 12, 13, 14...</td>\n",
       "      <td>8</td>\n",
       "      <td>['8 0.33911 0.672959 0.045347 0.082736', '19 0...</td>\n",
       "      <td>E:\\24_1_Juli_dataset\\2025-07-01_11-09-15\\CAMER...</td>\n",
       "    </tr>\n",
       "    <tr>\n",
       "      <th>2</th>\n",
       "      <td>Innova</td>\n",
       "      <td>E:\\24_1_Juli_dataset\\2025-07-01_11-09-02\\CAMER...</td>\n",
       "      <td>CAMERA_1.jpg</td>\n",
       "      <td>26</td>\n",
       "      <td>[0, 2, 3, 4, 5, 6, 7, 8, 9, 10, 11, 12, 13, 14...</td>\n",
       "      <td>10</td>\n",
       "      <td>['10 0.574712 0.620015 0.023645 0.023736', '11...</td>\n",
       "      <td>E:\\24_1_Juli_dataset\\2025-07-01_11-09-02\\CAMER...</td>\n",
       "    </tr>\n",
       "    <tr>\n",
       "      <th>3</th>\n",
       "      <td>Innova</td>\n",
       "      <td>E:\\24_1_Juli_dataset\\2025-07-01_11-04-07\\CAMER...</td>\n",
       "      <td>CAMERA_1.jpg</td>\n",
       "      <td>26</td>\n",
       "      <td>[0, 2, 3, 4, 5, 6, 7, 8, 9, 10, 11, 12, 13, 14...</td>\n",
       "      <td>10</td>\n",
       "      <td>['10 0.570696 0.62181 0.023453 0.023601', '26 ...</td>\n",
       "      <td>E:\\24_1_Juli_dataset\\2025-07-01_11-04-07\\CAMER...</td>\n",
       "    </tr>\n",
       "    <tr>\n",
       "      <th>4</th>\n",
       "      <td>Innova</td>\n",
       "      <td>E:\\24_1_Juli_dataset\\2025-07-01_10-44-06\\CAMER...</td>\n",
       "      <td>CAMERA_1.jpg</td>\n",
       "      <td>26</td>\n",
       "      <td>[0, 2, 3, 4, 5, 6, 7, 8, 9, 10, 11, 12, 13, 14...</td>\n",
       "      <td>20</td>\n",
       "      <td>['20 0.356017 0.517338 0.023286 0.023362', '8 ...</td>\n",
       "      <td>E:\\24_1_Juli_dataset\\2025-07-01_10-44-06\\CAMER...</td>\n",
       "    </tr>\n",
       "  </tbody>\n",
       "</table>\n",
       "</div>"
      ],
      "text/plain": [
       "    Model                                        Path Gambar     Nama File  \\\n",
       "0  Innova  E:\\24_1_Juli_dataset\\2025-07-01_11-09-25\\CAMER...  CAMERA_1.jpg   \n",
       "1  Innova  E:\\24_1_Juli_dataset\\2025-07-01_11-09-15\\CAMER...  CAMERA_1.jpg   \n",
       "2  Innova  E:\\24_1_Juli_dataset\\2025-07-01_11-09-02\\CAMER...  CAMERA_1.jpg   \n",
       "3  Innova  E:\\24_1_Juli_dataset\\2025-07-01_11-04-07\\CAMER...  CAMERA_1.jpg   \n",
       "4  Innova  E:\\24_1_Juli_dataset\\2025-07-01_10-44-06\\CAMER...  CAMERA_1.jpg   \n",
       "\n",
       "   Jumlah Objek                                         Kelas Unik  \\\n",
       "0            26  [0, 1, 3, 4, 5, 6, 7, 8, 9, 10, 11, 12, 13, 14...   \n",
       "1            26  [0, 2, 3, 4, 5, 6, 7, 8, 9, 10, 11, 12, 13, 14...   \n",
       "2            26  [0, 2, 3, 4, 5, 6, 7, 8, 9, 10, 11, 12, 13, 14...   \n",
       "3            26  [0, 2, 3, 4, 5, 6, 7, 8, 9, 10, 11, 12, 13, 14...   \n",
       "4            26  [0, 2, 3, 4, 5, 6, 7, 8, 9, 10, 11, 12, 13, 14...   \n",
       "\n",
       "   Kelas Dominan                                  Label YOLO Format  \\\n",
       "0             10  ['10 0.571245 0.628367 0.02359 0.023232', '19 ...   \n",
       "1              8  ['8 0.33911 0.672959 0.045347 0.082736', '19 0...   \n",
       "2             10  ['10 0.574712 0.620015 0.023645 0.023736', '11...   \n",
       "3             10  ['10 0.570696 0.62181 0.023453 0.023601', '26 ...   \n",
       "4             20  ['20 0.356017 0.517338 0.023286 0.023362', '8 ...   \n",
       "\n",
       "                                            Path Txt  \n",
       "0  E:\\24_1_Juli_dataset\\2025-07-01_11-09-25\\CAMER...  \n",
       "1  E:\\24_1_Juli_dataset\\2025-07-01_11-09-15\\CAMER...  \n",
       "2  E:\\24_1_Juli_dataset\\2025-07-01_11-09-02\\CAMER...  \n",
       "3  E:\\24_1_Juli_dataset\\2025-07-01_11-04-07\\CAMER...  \n",
       "4  E:\\24_1_Juli_dataset\\2025-07-01_10-44-06\\CAMER...  "
      ]
     },
     "execution_count": 3,
     "metadata": {},
     "output_type": "execute_result"
    }
   ],
   "source": [
    "import pandas as pd\n",
    "\n",
    "df = pd.read_csv(\"D:\\LearnPython\\Tools_labeler\\destination2.csv\")\n",
    "df.head()\n"
   ]
  }
 ],
 "metadata": {
  "kernelspec": {
   "display_name": "Python 3",
   "language": "python",
   "name": "python3"
  },
  "language_info": {
   "codemirror_mode": {
    "name": "ipython",
    "version": 3
   },
   "file_extension": ".py",
   "mimetype": "text/x-python",
   "name": "python",
   "nbconvert_exporter": "python",
   "pygments_lexer": "ipython3",
   "version": "3.10.11"
  }
 },
 "nbformat": 4,
 "nbformat_minor": 5
}
